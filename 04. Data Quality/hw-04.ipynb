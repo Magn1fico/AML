{
 "cells": [
  {
   "cell_type": "markdown",
   "metadata": {},
   "source": [
    "## Домашнее задание \"Проблема качества данных\"\n",
    "\n",
    "Необходимо запустить практическую часть занятия, и посмотреть самому то, о чём говорили на лекции. По образу практики, попробуйте создать искусственный датасет с лишними столбцами. Целевую метку, при правильной обработке данных, формируйте таким образом, чтобы без затруднений её смогла описать линейная модель."
   ]
  },
  {
   "cell_type": "code",
   "execution_count": 5,
   "metadata": {},
   "outputs": [],
   "source": [
    "import numpy as np\n",
    "import pandas as pd\n",
    "import seaborn as sns\n",
    "\n",
    "from sklearn.linear_model import LinearRegression\n",
    "from sklearn.metrics import mean_absolute_error"
   ]
  },
  {
   "cell_type": "code",
   "execution_count": 6,
   "metadata": {},
   "outputs": [
    {
     "data": {
      "text/html": [
       "<div>\n",
       "<style scoped>\n",
       "    .dataframe tbody tr th:only-of-type {\n",
       "        vertical-align: middle;\n",
       "    }\n",
       "\n",
       "    .dataframe tbody tr th {\n",
       "        vertical-align: top;\n",
       "    }\n",
       "\n",
       "    .dataframe thead th {\n",
       "        text-align: right;\n",
       "    }\n",
       "</style>\n",
       "<table border=\"1\" class=\"dataframe\">\n",
       "  <thead>\n",
       "    <tr style=\"text-align: right;\">\n",
       "      <th></th>\n",
       "      <th>N_cores</th>\n",
       "      <th>Core_speed_mhz</th>\n",
       "      <th>Memory</th>\n",
       "      <th>Camera_pixels</th>\n",
       "      <th>Display</th>\n",
       "      <th>price</th>\n",
       "    </tr>\n",
       "  </thead>\n",
       "  <tbody>\n",
       "    <tr>\n",
       "      <th>0</th>\n",
       "      <td>5</td>\n",
       "      <td>3046</td>\n",
       "      <td>128</td>\n",
       "      <td>14</td>\n",
       "      <td>6</td>\n",
       "      <td>605.533333</td>\n",
       "    </tr>\n",
       "    <tr>\n",
       "      <th>1</th>\n",
       "      <td>3</td>\n",
       "      <td>2340</td>\n",
       "      <td>32</td>\n",
       "      <td>8</td>\n",
       "      <td>5</td>\n",
       "      <td>487.800000</td>\n",
       "    </tr>\n",
       "    <tr>\n",
       "      <th>2</th>\n",
       "      <td>8</td>\n",
       "      <td>1602</td>\n",
       "      <td>64</td>\n",
       "      <td>10</td>\n",
       "      <td>7</td>\n",
       "      <td>572.440000</td>\n",
       "    </tr>\n",
       "    <tr>\n",
       "      <th>3</th>\n",
       "      <td>5</td>\n",
       "      <td>3500</td>\n",
       "      <td>128</td>\n",
       "      <td>8</td>\n",
       "      <td>7</td>\n",
       "      <td>635.666667</td>\n",
       "    </tr>\n",
       "    <tr>\n",
       "      <th>4</th>\n",
       "      <td>1</td>\n",
       "      <td>2181</td>\n",
       "      <td>256</td>\n",
       "      <td>32</td>\n",
       "      <td>8</td>\n",
       "      <td>612.540000</td>\n",
       "    </tr>\n",
       "    <tr>\n",
       "      <th>5</th>\n",
       "      <td>7</td>\n",
       "      <td>2106</td>\n",
       "      <td>128</td>\n",
       "      <td>14</td>\n",
       "      <td>5</td>\n",
       "      <td>587.280000</td>\n",
       "    </tr>\n",
       "    <tr>\n",
       "      <th>6</th>\n",
       "      <td>8</td>\n",
       "      <td>2517</td>\n",
       "      <td>128</td>\n",
       "      <td>16</td>\n",
       "      <td>6</td>\n",
       "      <td>638.240000</td>\n",
       "    </tr>\n",
       "    <tr>\n",
       "      <th>7</th>\n",
       "      <td>5</td>\n",
       "      <td>3312</td>\n",
       "      <td>64</td>\n",
       "      <td>4</td>\n",
       "      <td>6</td>\n",
       "      <td>582.400000</td>\n",
       "    </tr>\n",
       "    <tr>\n",
       "      <th>8</th>\n",
       "      <td>6</td>\n",
       "      <td>2355</td>\n",
       "      <td>512</td>\n",
       "      <td>20</td>\n",
       "      <td>7</td>\n",
       "      <td>805.200000</td>\n",
       "    </tr>\n",
       "    <tr>\n",
       "      <th>9</th>\n",
       "      <td>8</td>\n",
       "      <td>2919</td>\n",
       "      <td>512</td>\n",
       "      <td>20</td>\n",
       "      <td>8</td>\n",
       "      <td>881.680000</td>\n",
       "    </tr>\n",
       "  </tbody>\n",
       "</table>\n",
       "</div>"
      ],
      "text/plain": [
       "   N_cores  Core_speed_mhz  Memory  Camera_pixels  Display       price\n",
       "0        5            3046     128             14        6  605.533333\n",
       "1        3            2340      32              8        5  487.800000\n",
       "2        8            1602      64             10        7  572.440000\n",
       "3        5            3500     128              8        7  635.666667\n",
       "4        1            2181     256             32        8  612.540000\n",
       "5        7            2106     128             14        5  587.280000\n",
       "6        8            2517     128             16        6  638.240000\n",
       "7        5            3312      64              4        6  582.400000\n",
       "8        6            2355     512             20        7  805.200000\n",
       "9        8            2919     512             20        8  881.680000"
      ]
     },
     "execution_count": 6,
     "metadata": {},
     "output_type": "execute_result"
    }
   ],
   "source": [
    "# Создадим сэмпл с техническими характериситками мобильных телефонов. Допустим, разрешение камеры не влияет на цену. \n",
    "\n",
    "n_samples = 1000\n",
    "\n",
    "N_cores = np.random.choice(8, n_samples) + 1 # кол-во ядер процессора\n",
    "Core_speed_mhz = np.random.choice(range(1500,3500), n_samples) + 1 # скорость ядер процессора\n",
    "Memory = np.random.choice([32,64,128,256,512], n_samples) # объем встренной памяти\n",
    "Camera_pixels = np.random.choice([4,6,8,10,12,14,16,20,32], n_samples) # разрешение камеры\n",
    "Display = np.random.choice(range(5,9), n_samples) # диагональ дисплея\n",
    "\n",
    "price = N_cores*Core_speed_mhz/150 + 0.5*Memory + 15*Display + 350\n",
    "\n",
    "data1 = pd.DataFrame({'N_cores': N_cores,'Core_speed_mhz': Core_speed_mhz , 'Memory': Memory, 'Camera_pixels': Camera_pixels, 'Display': Display, 'price': price})\n",
    "data1.head(10)"
   ]
  },
  {
   "cell_type": "code",
   "execution_count": 7,
   "metadata": {},
   "outputs": [
    {
     "name": "stdout",
     "output_type": "stream",
     "text": [
      "Weights: [17.89715724  0.03097902 -0.17713032 13.73264528]\n",
      "Bias: 375.79670024773145\n",
      "Error: 74.50343048280233\n"
     ]
    }
   ],
   "source": [
    "# Попробуем посторить регрессию на основе всех имеющихся данных\n",
    "\n",
    "X1 = data1[['N_cores','Core_speed_mhz','Camera_pixels', 'Display']]\n",
    "y1 = data1['price']\n",
    "reg1 = LinearRegression().fit(X1, y1)\n",
    "\n",
    "print('Weights: {}'.format(reg1.coef_))\n",
    "print('Bias: {}'.format(reg1.intercept_))\n",
    "\n",
    "pred_values = reg1.predict(X1)\n",
    "print('Error: {}'.format(mean_absolute_error(pred_values, y1)))"
   ]
  },
  {
   "cell_type": "code",
   "execution_count": 8,
   "metadata": {},
   "outputs": [],
   "source": [
    "# Добавим столбец с сумарной производительностью процессоров телефона\n",
    "\n",
    "data1['total_core_speed'] = data1['N_cores'] * data1['Core_speed_mhz']"
   ]
  },
  {
   "cell_type": "code",
   "execution_count": 9,
   "metadata": {},
   "outputs": [
    {
     "name": "stdout",
     "output_type": "stream",
     "text": [
      "Weights: [6.66666667e-03 5.00000000e-01 1.50000000e+01]\n",
      "Bias: 350.00000000000387\n",
      "Error: 3.095010470133275e-12\n"
     ]
    }
   ],
   "source": [
    "#  Строим регрессию с учетом нового параметра и отбросив лишние данные. Ошибка уменьшилась. \n",
    "\n",
    "X1 = data1[['total_core_speed','Memory', 'Display']]\n",
    "y1 = data1['price']\n",
    "reg1 = LinearRegression().fit(X1, y1)\n",
    "\n",
    "print('Weights: {}'.format(reg1.coef_))\n",
    "print('Bias: {}'.format(reg1.intercept_))\n",
    "\n",
    "pred_values = reg1.predict(X1)\n",
    "print('Error: {}'.format(mean_absolute_error(pred_values, y1)))"
   ]
  }
 ],
 "metadata": {
  "kernelspec": {
   "display_name": "Python 3",
   "language": "python",
   "name": "python3"
  },
  "language_info": {
   "codemirror_mode": {
    "name": "ipython",
    "version": 3
   },
   "file_extension": ".py",
   "mimetype": "text/x-python",
   "name": "python",
   "nbconvert_exporter": "python",
   "pygments_lexer": "ipython3",
   "version": "3.7.3"
  }
 },
 "nbformat": 4,
 "nbformat_minor": 4
}
