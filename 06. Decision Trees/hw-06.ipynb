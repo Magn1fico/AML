{
 "cells": [
  {
   "cell_type": "markdown",
   "metadata": {},
   "source": [
    "## Домашнее задание «Деревья решений»\n",
    "Для выполнения домашнего задания необходимо взять файл boston house-prices datase (sklearn.datasets.load_boston) и построить модель.\n",
    "По аналогии задания к лекции «Классификация: Логистическая регрессия и SVM».\n",
    "А именно построить модель регрессии, дерево решений, оптимизировать параметры и сравнить результаты."
   ]
  },
  {
   "cell_type": "code",
   "execution_count": 1,
   "metadata": {},
   "outputs": [],
   "source": [
    "from sklearn.datasets import load_boston\n",
    "import pandas as pd\n",
    "import numpy as np\n",
    "\n",
    "from sklearn.linear_model import LinearRegression\n",
    "from sklearn.model_selection import train_test_split\n",
    "\n",
    "import seaborn as sns\n",
    "import matplotlib.pyplot as plt \n",
    "from sklearn.tree import DecisionTreeRegressor"
   ]
  },
  {
   "cell_type": "code",
   "execution_count": 2,
   "metadata": {},
   "outputs": [],
   "source": [
    "# Загружаем датасет\n",
    "data = pd.read_csv(load_boston()['filename'], skiprows=1)"
   ]
  },
  {
   "cell_type": "code",
   "execution_count": 26,
   "metadata": {},
   "outputs": [],
   "source": [
    "X = data.drop(['MEDV'], axis = 1)\n",
    "y = data['MEDV']"
   ]
  },
  {
   "cell_type": "code",
   "execution_count": 170,
   "metadata": {},
   "outputs": [
    {
     "name": "stdout",
     "output_type": "stream",
     "text": [
      "Score: 0.6439138292685262 Depth: 19\n"
     ]
    }
   ],
   "source": [
    "# Строим дерево на дефолтных параметрах\n",
    "\n",
    "model = DecisionTreeRegressor(random_state = 0)\n",
    "X_train, X_test, y_train, y_test = train_test_split(X, y, test_size=0.3, random_state = 31)\n",
    "model.fit(X_train, y_train)\n",
    "print('Score:',model.score(X_test, y_test),'Depth:', model.get_depth())"
   ]
  },
  {
   "cell_type": "code",
   "execution_count": 112,
   "metadata": {},
   "outputs": [],
   "source": [
    "def get_score(X,y, md, random_seed=31, model=None):\n",
    "  if model is None:\n",
    "    model = DecisionTreeRegressor(random_state=0, max_depth = md)\n",
    "  X_train, X_test, y_train, y_test = train_test_split(X, y, test_size=0.3, random_state = random_seed)  \n",
    "  model.fit(X_train, y_train)\n",
    "  return model.score(X_test, y_test)"
   ]
  },
  {
   "cell_type": "code",
   "execution_count": 171,
   "metadata": {},
   "outputs": [
    {
     "name": "stdout",
     "output_type": "stream",
     "text": [
      "Max_depth = 10 Score: 0.7255442128837393\n"
     ]
    }
   ],
   "source": [
    "# Подбираем параметр max_depth. Наилучший результат при глубине 10. Зафиксируем этот парамерт в дальнейших шагах\n",
    "\n",
    "for k in range (1,500):\n",
    "    r = get_score(X,y,k)\n",
    "    if k == 1:\n",
    "        l = r\n",
    "        continue   \n",
    "    if r > l:\n",
    "        l = r\n",
    "        md = k\n",
    "\n",
    "print('Max_depth =', md, 'Score:', l)    "
   ]
  },
  {
   "cell_type": "code",
   "execution_count": 172,
   "metadata": {},
   "outputs": [
    {
     "name": "stdout",
     "output_type": "stream",
     "text": [
      "mse 0.7255442128837393 10\n",
      "friedman_mse 0.7026736131154561 10\n",
      "mae 0.6476570699816995 10\n"
     ]
    }
   ],
   "source": [
    "# Подбираем параметр criterion. Наилучший результат при 'mse'. Фиксируем\n",
    "\n",
    "crit = ['mse', 'friedman_mse', 'mae']\n",
    "\n",
    "for k in crit:\n",
    "    model = DecisionTreeRegressor(random_state=0, max_depth = 10, criterion = k)\n",
    "    X_train, X_test, y_train, y_test = train_test_split(X, y, test_size=0.3, random_state = 31)\n",
    "    model.fit(X_train, y_train)\n",
    "    print(k, model.score(X_test, y_test), model.get_depth())"
   ]
  },
  {
   "cell_type": "code",
   "execution_count": 173,
   "metadata": {},
   "outputs": [
    {
     "name": "stdout",
     "output_type": "stream",
     "text": [
      "best 0.7255442128837393 10\n",
      "random 0.7805301521766177 10\n"
     ]
    }
   ],
   "source": [
    "# Подбираем параметр split. Наилучший результат при 'random'. Фиксируем\n",
    "\n",
    "split = ['best', 'random']\n",
    "\n",
    "for k in split:\n",
    "    model = DecisionTreeRegressor(random_state=0, max_depth = 10, criterion = 'mse', splitter = k)\n",
    "    X_train, X_test, y_train, y_test = train_test_split(X, y, test_size=0.3, random_state = 31)\n",
    "    model.fit(X_train, y_train)\n",
    "    print(k, model.score(X_test, y_test), model.get_depth())"
   ]
  },
  {
   "cell_type": "markdown",
   "metadata": {},
   "source": [
    "Итого удалось повысить точность модели с 64 до 78 процентов"
   ]
  }
 ],
 "metadata": {
  "kernelspec": {
   "display_name": "Python 3",
   "language": "python",
   "name": "python3"
  },
  "language_info": {
   "codemirror_mode": {
    "name": "ipython",
    "version": 3
   },
   "file_extension": ".py",
   "mimetype": "text/x-python",
   "name": "python",
   "nbconvert_exporter": "python",
   "pygments_lexer": "ipython3",
   "version": "3.7.3"
  }
 },
 "nbformat": 4,
 "nbformat_minor": 2
}
